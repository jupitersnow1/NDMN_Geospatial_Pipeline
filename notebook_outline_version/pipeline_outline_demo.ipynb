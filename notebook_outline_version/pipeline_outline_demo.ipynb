{
 "cells": [
  {
   "cell_type": "code",
   "execution_count": 1,
   "id": "d2802186-ac3b-443c-b5e5-e8cfec105ec5",
   "metadata": {},
   "outputs": [],
   "source": [
    "# library\n",
    "from shapely.geometry import Point\n",
    "import geopandas as gpd\n",
    "from shapely import wkt\n",
    "import geemap\n",
    "import ee  \n",
    "import pandas as pd\n",
    "from sklearn.ensemble import RandomForestClassifier, RandomForestRegressor\n",
    "from sklearn.model_selection import train_test_split\n",
    "from sklearn.metrics import mean_squared_error, accuracy_score\n",
    "from IPython.display import display "
   ]
  },
  {
   "cell_type": "code",
   "execution_count": 2,
   "id": "d47b2405-5c3a-4e0b-aa67-8c8e927d5900",
   "metadata": {},
   "outputs": [
    {
     "data": {
      "text/html": [
       "\n",
       "            <style>\n",
       "                .geemap-dark {\n",
       "                    --jp-widgets-color: white;\n",
       "                    --jp-widgets-label-color: white;\n",
       "                    --jp-ui-font-color1: white;\n",
       "                    --jp-layout-color2: #454545;\n",
       "                    background-color: #383838;\n",
       "                }\n",
       "\n",
       "                .geemap-dark .jupyter-button {\n",
       "                    --jp-layout-color3: #383838;\n",
       "                }\n",
       "\n",
       "                .geemap-colab {\n",
       "                    background-color: var(--colab-primary-surface-color, white);\n",
       "                }\n",
       "\n",
       "                .geemap-colab .jupyter-button {\n",
       "                    --jp-layout-color3: var(--colab-primary-surface-color, white);\n",
       "                }\n",
       "            </style>\n",
       "            "
      ],
      "text/plain": [
       "<IPython.core.display.HTML object>"
      ]
     },
     "metadata": {},
     "output_type": "display_data"
    }
   ],
   "source": [
    "# ------------------------\n",
    "# 1. Initialize Earth Engine\n",
    "# ------------------------\n",
    "try:\n",
    "    ee.Initialize()\n",
    "except Exception as e:\n",
    "    ee.Authenticate()\n",
    "    ee.Initialize()"
   ]
  },
  {
   "cell_type": "code",
   "execution_count": 3,
   "id": "5bd187eb-494a-40cb-804f-8f6a66aec979",
   "metadata": {},
   "outputs": [
    {
     "data": {
      "text/html": [
       "\n",
       "            <style>\n",
       "                .geemap-dark {\n",
       "                    --jp-widgets-color: white;\n",
       "                    --jp-widgets-label-color: white;\n",
       "                    --jp-ui-font-color1: white;\n",
       "                    --jp-layout-color2: #454545;\n",
       "                    background-color: #383838;\n",
       "                }\n",
       "\n",
       "                .geemap-dark .jupyter-button {\n",
       "                    --jp-layout-color3: #383838;\n",
       "                }\n",
       "\n",
       "                .geemap-colab {\n",
       "                    background-color: var(--colab-primary-surface-color, white);\n",
       "                }\n",
       "\n",
       "                .geemap-colab .jupyter-button {\n",
       "                    --jp-layout-color3: var(--colab-primary-surface-color, white);\n",
       "                }\n",
       "            </style>\n",
       "            "
      ],
      "text/plain": [
       "<IPython.core.display.HTML object>"
      ]
     },
     "metadata": {},
     "output_type": "display_data"
    }
   ],
   "source": [
    "# ------------------------\n",
    "# 2. Data Preprocessing Functions\n",
    "# ------------------------\n",
    "def convert_geometry_column(df):\n",
    "    \"\"\"converts WKT geometries to shapely objects.\"\"\"\n",
    "    df['geometry'] = df['geometry'].apply(lambda x: wkt.loads(x) if isinstance(x, str) else x)\n",
    "    return df\n",
    "\n",
    "def filter_valid_geometries(gdf):\n",
    "    \"\"\"filters out invalid or null geometries.\"\"\"\n",
    "    gdf = gdf[gdf['geometry'].notnull()]\n",
    "    gdf = gdf[gdf.is_valid]\n",
    "    return gdf"
   ]
  },
  {
   "cell_type": "code",
   "execution_count": 4,
   "id": "e0c0cf86-727f-435b-b41c-4464c4ddca83",
   "metadata": {},
   "outputs": [
    {
     "data": {
      "text/html": [
       "\n",
       "            <style>\n",
       "                .geemap-dark {\n",
       "                    --jp-widgets-color: white;\n",
       "                    --jp-widgets-label-color: white;\n",
       "                    --jp-ui-font-color1: white;\n",
       "                    --jp-layout-color2: #454545;\n",
       "                    background-color: #383838;\n",
       "                }\n",
       "\n",
       "                .geemap-dark .jupyter-button {\n",
       "                    --jp-layout-color3: #383838;\n",
       "                }\n",
       "\n",
       "                .geemap-colab {\n",
       "                    background-color: var(--colab-primary-surface-color, white);\n",
       "                }\n",
       "\n",
       "                .geemap-colab .jupyter-button {\n",
       "                    --jp-layout-color3: var(--colab-primary-surface-color, white);\n",
       "                }\n",
       "            </style>\n",
       "            "
      ],
      "text/plain": [
       "<IPython.core.display.HTML object>"
      ]
     },
     "metadata": {},
     "output_type": "display_data"
    }
   ],
   "source": [
    "# ------------------------\n",
    "# 3. Model Training Function\n",
    "# ------------------------\n",
    "def train_model(X_train, y_train, task_type):\n",
    "    \"\"\"trains a model based on classification or regression.\"\"\"\n",
    "    if task_type == \"classification\":\n",
    "        model = RandomForestClassifier(n_estimators=100, random_state=42)\n",
    "    else:\n",
    "        model = RandomForestRegressor(n_estimators=100, random_state=42)\n",
    "    \n",
    "    model.fit(X_train, y_train)\n",
    "    return model"
   ]
  },
  {
   "cell_type": "code",
   "execution_count": 5,
   "id": "13e7d3a0-f21b-4328-bbd5-ce020fbf8128",
   "metadata": {},
   "outputs": [
    {
     "data": {
      "text/html": [
       "\n",
       "            <style>\n",
       "                .geemap-dark {\n",
       "                    --jp-widgets-color: white;\n",
       "                    --jp-widgets-label-color: white;\n",
       "                    --jp-ui-font-color1: white;\n",
       "                    --jp-layout-color2: #454545;\n",
       "                    background-color: #383838;\n",
       "                }\n",
       "\n",
       "                .geemap-dark .jupyter-button {\n",
       "                    --jp-layout-color3: #383838;\n",
       "                }\n",
       "\n",
       "                .geemap-colab {\n",
       "                    background-color: var(--colab-primary-surface-color, white);\n",
       "                }\n",
       "\n",
       "                .geemap-colab .jupyter-button {\n",
       "                    --jp-layout-color3: var(--colab-primary-surface-color, white);\n",
       "                }\n",
       "            </style>\n",
       "            "
      ],
      "text/plain": [
       "<IPython.core.display.HTML object>"
      ]
     },
     "metadata": {},
     "output_type": "display_data"
    }
   ],
   "source": [
    "# ------------------------\n",
    "# 4. Model Evaluation Function\n",
    "# ------------------------\n",
    "def evaluate_model(model, X_test, y_test, task_type):\n",
    "    \"\"\"evaluates model performance using appropriate metrics.\"\"\"\n",
    "    y_pred = model.predict(X_test)\n",
    "    if task_type == \"classification\":\n",
    "        score = accuracy_score(y_test, y_pred)\n",
    "        print(f\"Classification Accuracy: {score:.4f}\")\n",
    "    else:\n",
    "        score = mean_squared_error(y_test, y_pred)\n",
    "        print(f\"Regression MSE: {score:.4f}\")\n",
    "    return score\n"
   ]
  },
  {
   "cell_type": "code",
   "execution_count": 6,
   "id": "7ff9ee52-3380-49e4-bbe8-d69ab1328250",
   "metadata": {},
   "outputs": [
    {
     "data": {
      "text/html": [
       "\n",
       "            <style>\n",
       "                .geemap-dark {\n",
       "                    --jp-widgets-color: white;\n",
       "                    --jp-widgets-label-color: white;\n",
       "                    --jp-ui-font-color1: white;\n",
       "                    --jp-layout-color2: #454545;\n",
       "                    background-color: #383838;\n",
       "                }\n",
       "\n",
       "                .geemap-dark .jupyter-button {\n",
       "                    --jp-layout-color3: #383838;\n",
       "                }\n",
       "\n",
       "                .geemap-colab {\n",
       "                    background-color: var(--colab-primary-surface-color, white);\n",
       "                }\n",
       "\n",
       "                .geemap-colab .jupyter-button {\n",
       "                    --jp-layout-color3: var(--colab-primary-surface-color, white);\n",
       "                }\n",
       "            </style>\n",
       "            "
      ],
      "text/plain": [
       "<IPython.core.display.HTML object>"
      ]
     },
     "metadata": {},
     "output_type": "display_data"
    }
   ],
   "source": [
    "# ------------------------\n",
    "# 5. Feature Selection Function\n",
    "# ------------------------\n",
    "def get_feature_importance(model, selected_features):\n",
    "    \"\"\"retrieves feature importance from trained model.\"\"\"\n",
    "    importances = model.feature_importances_\n",
    "    feature_importance = sorted(zip(selected_features, importances), key=lambda x: x[1], reverse=True)\n",
    "    print(\"Feature Importances:\")\n",
    "    for feature, importance in feature_importance:\n",
    "        print(f\"{feature}: {importance:.4f}\")"
   ]
  },
  {
   "cell_type": "code",
   "execution_count": 7,
   "id": "5a2f0547-e727-410b-96e8-f61c00b18164",
   "metadata": {},
   "outputs": [
    {
     "data": {
      "text/html": [
       "\n",
       "            <style>\n",
       "                .geemap-dark {\n",
       "                    --jp-widgets-color: white;\n",
       "                    --jp-widgets-label-color: white;\n",
       "                    --jp-ui-font-color1: white;\n",
       "                    --jp-layout-color2: #454545;\n",
       "                    background-color: #383838;\n",
       "                }\n",
       "\n",
       "                .geemap-dark .jupyter-button {\n",
       "                    --jp-layout-color3: #383838;\n",
       "                }\n",
       "\n",
       "                .geemap-colab {\n",
       "                    background-color: var(--colab-primary-surface-color, white);\n",
       "                }\n",
       "\n",
       "                .geemap-colab .jupyter-button {\n",
       "                    --jp-layout-color3: var(--colab-primary-surface-color, white);\n",
       "                }\n",
       "            </style>\n",
       "            "
      ],
      "text/plain": [
       "<IPython.core.display.HTML object>"
      ]
     },
     "metadata": {},
     "output_type": "display_data"
    }
   ],
   "source": [
    "# ------------------------\n",
    "# 6. Apply Model to Map\n",
    "# ------------------------\n",
    "def apply_model_to_map(model, df, selected_features):\n",
    "    \"\"\"applies trained model predictions to dataset and visualizes it on a map.\"\"\"\n",
    "    df = convert_geometry_column(df)\n",
    "    df['prediction'] = model.predict(df[selected_features])\n",
    "    \n",
    "    gdf = gpd.GeoDataFrame(df, geometry=df['geometry'], crs='EPSG:4326')\n",
    "    gdf = gdf.sample(n=250, random_state=42)\n",
    "    \n",
    "    try:\n",
    "        gee_features = geemap.geopandas_to_ee(gdf)\n",
    "        if gee_features is None:\n",
    "            print(\"Error: geemap.geopandas_to_ee() returned None.\")\n",
    "            return None\n",
    "    except Exception as e:\n",
    "        print(\"Error converting GeoDataFrame to EE FeatureCollection:\", e)\n",
    "        return None\n",
    "    \n",
    "    Map = geemap.Map()\n",
    "    Map.addLayer(gee_features, {}, 'Predictions')\n",
    "    display(Map)\n",
    "    #return Map"
   ]
  },
  {
   "cell_type": "code",
   "execution_count": 8,
   "id": "809bda16-a105-41f4-a644-27e487d4f724",
   "metadata": {},
   "outputs": [
    {
     "data": {
      "text/html": [
       "\n",
       "            <style>\n",
       "                .geemap-dark {\n",
       "                    --jp-widgets-color: white;\n",
       "                    --jp-widgets-label-color: white;\n",
       "                    --jp-ui-font-color1: white;\n",
       "                    --jp-layout-color2: #454545;\n",
       "                    background-color: #383838;\n",
       "                }\n",
       "\n",
       "                .geemap-dark .jupyter-button {\n",
       "                    --jp-layout-color3: #383838;\n",
       "                }\n",
       "\n",
       "                .geemap-colab {\n",
       "                    background-color: var(--colab-primary-surface-color, white);\n",
       "                }\n",
       "\n",
       "                .geemap-colab .jupyter-button {\n",
       "                    --jp-layout-color3: var(--colab-primary-surface-color, white);\n",
       "                }\n",
       "            </style>\n",
       "            "
      ],
      "text/plain": [
       "<IPython.core.display.HTML object>"
      ]
     },
     "metadata": {},
     "output_type": "display_data"
    },
    {
     "name": "stdin",
     "output_type": "stream",
     "text": [
      "Choose model type (classification/regression):  classification\n"
     ]
    },
    {
     "name": "stdout",
     "output_type": "stream",
     "text": [
      "Classification Accuracy: 0.6969\n",
      "Feature Importances:\n",
      "RED: 0.1394\n",
      "SWIR2: 0.1376\n",
      "GREEN: 0.1348\n",
      "ndvi: 0.1295\n",
      "SWIR1: 0.1233\n",
      "elevation: 0.1231\n",
      "NIR: 0.1064\n",
      "BLUE: 0.1058\n"
     ]
    },
    {
     "data": {
      "application/vnd.jupyter.widget-view+json": {
       "model_id": "10f8fd15df0e45f995e4543679addaf9",
       "version_major": 2,
       "version_minor": 0
      },
      "text/plain": [
       "Map(center=[0, 0], controls=(WidgetControl(options=['position', 'transparent_bg'], widget=SearchDataGUI(childr…"
      ]
     },
     "metadata": {},
     "output_type": "display_data"
    }
   ],
   "source": [
    "# ------------------------\n",
    "# 7. Main Execution\n",
    "# ------------------------\n",
    "# load dataset\n",
    "df = pd.read_csv('../notebook_outline_version/data/Costa_Classification_Data_Cleaned2.csv')\n",
    "\n",
    "\n",
    "# drop duplicate plotIDs, keeping the first occurrence\n",
    "df = df.drop_duplicates(subset=['plotid'], keep='first')\n",
    "\n",
    "df = convert_geometry_column(df)\n",
    "\n",
    "# user selects task type\n",
    "task_type = input(\"Choose model type (classification/regression): \")\n",
    "\n",
    "# define features and target\n",
    "selected_features = ['BLUE', 'GREEN', 'NIR', 'RED', 'SWIR1', 'SWIR2', 'elevation', 'ndvi']\n",
    "target = 'Vegetation' if task_type == \"classification\" else 'Forest_Percentage'\n",
    "\n",
    "# split data\n",
    "X = df[selected_features]\n",
    "y = df[target]\n",
    "X_train, X_test, y_train, y_test = train_test_split(X, y, test_size=0.2, random_state=42)\n",
    "\n",
    "# train model\n",
    "model = train_model(X_train, y_train, task_type)\n",
    "\n",
    "# evaluate model\n",
    "evaluate_model(model, X_test, y_test, task_type)\n",
    "\n",
    "# get feature importance\n",
    "get_feature_importance(model, selected_features)\n",
    "\n",
    "# apply model to dataset and map results\n",
    "map_result = apply_model_to_map(model, df, selected_features)\n",
    "if map_result:\n",
    "    display(map_result)"
   ]
  },
  {
   "cell_type": "code",
   "execution_count": 13,
   "id": "03886c43-c5ae-41b9-8c2c-a00a73d517ec",
   "metadata": {},
   "outputs": [
    {
     "data": {
      "text/html": [
       "\n",
       "            <style>\n",
       "                .geemap-dark {\n",
       "                    --jp-widgets-color: white;\n",
       "                    --jp-widgets-label-color: white;\n",
       "                    --jp-ui-font-color1: white;\n",
       "                    --jp-layout-color2: #454545;\n",
       "                    background-color: #383838;\n",
       "                }\n",
       "\n",
       "                .geemap-dark .jupyter-button {\n",
       "                    --jp-layout-color3: #383838;\n",
       "                }\n",
       "\n",
       "                .geemap-colab {\n",
       "                    background-color: var(--colab-primary-surface-color, white);\n",
       "                }\n",
       "\n",
       "                .geemap-colab .jupyter-button {\n",
       "                    --jp-layout-color3: var(--colab-primary-surface-color, white);\n",
       "                }\n",
       "            </style>\n",
       "            "
      ],
      "text/plain": [
       "<IPython.core.display.HTML object>"
      ]
     },
     "metadata": {},
     "output_type": "display_data"
    },
    {
     "data": {
      "text/plain": [
       "array(['Tree', 'Not_Applicable', 'Palms', 'Herbaceas', 'Bush',\n",
       "       'Another Vegetation', 'Herbaceous', 'Plastico'], dtype=object)"
      ]
     },
     "execution_count": 13,
     "metadata": {},
     "output_type": "execute_result"
    }
   ],
   "source": [
    "df['Vegetation'].unique()"
   ]
  },
  {
   "cell_type": "code",
   "execution_count": 11,
   "id": "a5c73d31-e21b-4003-b4ff-a256f618635f",
   "metadata": {},
   "outputs": [
    {
     "data": {
      "text/html": [
       "\n",
       "            <style>\n",
       "                .geemap-dark {\n",
       "                    --jp-widgets-color: white;\n",
       "                    --jp-widgets-label-color: white;\n",
       "                    --jp-ui-font-color1: white;\n",
       "                    --jp-layout-color2: #454545;\n",
       "                    background-color: #383838;\n",
       "                }\n",
       "\n",
       "                .geemap-dark .jupyter-button {\n",
       "                    --jp-layout-color3: #383838;\n",
       "                }\n",
       "\n",
       "                .geemap-colab {\n",
       "                    background-color: var(--colab-primary-surface-color, white);\n",
       "                }\n",
       "\n",
       "                .geemap-colab .jupyter-button {\n",
       "                    --jp-layout-color3: var(--colab-primary-surface-color, white);\n",
       "                }\n",
       "            </style>\n",
       "            "
      ],
      "text/plain": [
       "<IPython.core.display.HTML object>"
      ]
     },
     "metadata": {},
     "output_type": "display_data"
    },
    {
     "name": "stdout",
     "output_type": "stream",
     "text": [
      "Model Accuracy: 0.6969\n",
      "\n",
      "Confusion Matrix:\n",
      " [[   3    0   24   12   12    2   33]\n",
      " [   0    2   19    0    3    0   36]\n",
      " [  10    1  300    3   20    3  167]\n",
      " [   4    0   23   14    7    0   27]\n",
      " [   1    1   62    3   66    0   42]\n",
      " [   3    0    3    2    1    8   15]\n",
      " [   1    6  110    1   12   12 1173]]\n",
      "\n",
      "Classification Report:\n",
      "                     precision    recall  f1-score   support\n",
      "\n",
      "Another Vegetation       0.14      0.03      0.06        86\n",
      "              Bush       0.20      0.03      0.06        60\n",
      "         Herbaceas       0.55      0.60      0.57       504\n",
      "        Herbaceous       0.40      0.19      0.25        75\n",
      "    Not_Applicable       0.55      0.38      0.45       175\n",
      "             Palms       0.32      0.25      0.28        32\n",
      "              Tree       0.79      0.89      0.84      1315\n",
      "\n",
      "          accuracy                           0.70      2247\n",
      "         macro avg       0.42      0.34      0.36      2247\n",
      "      weighted avg       0.66      0.70      0.67      2247\n",
      "\n"
     ]
    }
   ],
   "source": [
    "from sklearn.metrics import accuracy_score, confusion_matrix, classification_report\n",
    "\n",
    "def evaluate_model(model, X_test, y_test):\n",
    "    \"\"\"evaluates the trained model using accuracy, confusion matrix, and classification report.\"\"\"\n",
    "    \n",
    "    # generate predictions\n",
    "    y_pred = model.predict(X_test)\n",
    "\n",
    "    # calculating accuracy\n",
    "    accuracy = accuracy_score(y_test, y_pred)\n",
    "    print(f\"Model Accuracy: {accuracy:.4f}\")\n",
    "\n",
    "    # confusion matrix\n",
    "    cm = confusion_matrix(y_test, y_pred)\n",
    "    print(\"\\nConfusion Matrix:\\n\", cm)\n",
    "\n",
    "    # classification report\n",
    "    cr = classification_report(y_test, y_pred)\n",
    "    print(\"\\nClassification Report:\\n\", cr)\n",
    "\n",
    "    #return accuracy, cm, cr\n",
    "\n",
    "# run model evaluation\n",
    "evaluate_model(model, X_test, y_test)"
   ]
  },
  {
   "cell_type": "code",
   "execution_count": null,
   "id": "0cb8b497-fd17-44c1-813b-63be70dcbd79",
   "metadata": {},
   "outputs": [],
   "source": [
    "#'Tree', 'Not_Applicable', 'Palms', 'Herbaceas', 'Bush',\n",
    "#       'Another Vegetation', 'Herbaceous', 'Plastico'"
   ]
  }
 ],
 "metadata": {
  "kernelspec": {
   "display_name": "Python 3 (ipykernel)",
   "language": "python",
   "name": "python3"
  },
  "language_info": {
   "codemirror_mode": {
    "name": "ipython",
    "version": 3
   },
   "file_extension": ".py",
   "mimetype": "text/x-python",
   "name": "python",
   "nbconvert_exporter": "python",
   "pygments_lexer": "ipython3",
   "version": "3.11.8"
  }
 },
 "nbformat": 4,
 "nbformat_minor": 5
}
