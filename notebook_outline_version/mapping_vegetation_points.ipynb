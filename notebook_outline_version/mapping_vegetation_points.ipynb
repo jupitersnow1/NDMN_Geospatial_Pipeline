{
 "cells": [
  {
   "cell_type": "code",
   "execution_count": null,
   "id": "5ad9dde7-5aa8-471f-8827-01f7c56f2830",
   "metadata": {},
   "outputs": [
    {
     "data": {
      "text/html": [
       "\n",
       "            <style>\n",
       "                .geemap-dark {\n",
       "                    --jp-widgets-color: white;\n",
       "                    --jp-widgets-label-color: white;\n",
       "                    --jp-ui-font-color1: white;\n",
       "                    --jp-layout-color2: #454545;\n",
       "                    background-color: #383838;\n",
       "                }\n",
       "\n",
       "                .geemap-dark .jupyter-button {\n",
       "                    --jp-layout-color3: #383838;\n",
       "                }\n",
       "\n",
       "                .geemap-colab {\n",
       "                    background-color: var(--colab-primary-surface-color, white);\n",
       "                }\n",
       "\n",
       "                .geemap-colab .jupyter-button {\n",
       "                    --jp-layout-color3: var(--colab-primary-surface-color, white);\n",
       "                }\n",
       "            </style>\n",
       "            "
      ],
      "text/plain": [
       "<IPython.core.display.HTML object>"
      ]
     },
     "metadata": {},
     "output_type": "display_data"
    }
   ],
   "source": [
    "import ee\n",
    "import geemap\n",
    "import pandas as pd\n",
    "from shapely.wkt import loads  \n",
    "\n",
    "# initialize Earth Engine\n",
    "ee.Initialize()\n",
    "\n",
    "# load CSV using Pandas\n",
    "df = pd.read_csv(\"../notebook_outline_version/data/Costa_Classification_Data_Cleaned2.csv\")\n",
    "\n",
    "# ensure the dataset has a 'geometry' column with WKT format\n",
    "if \"geometry\" not in df.columns:\n",
    "    raise ValueError(\"The dataset must have a 'geometry' column with WKT format.\")\n",
    "\n",
    "# handle NaN values (replace with empty strings or drop them)\n",
    "df = df.fillna(\"\")  # Use dropna() if you want to remove rows with NaNs\n",
    "\n",
    "# Convert dataframe to a list of features\n",
    "features = []\n",
    "for _, row in df.iterrows():\n",
    "    geometry = loads(row[\"geometry\"])  \n",
    "    if geometry.geom_type == \"Point\":  \n",
    "        lon, lat = geometry.x, geometry.y  \n",
    "        properties = {k: v for k, v in row.to_dict().items() if pd.notna(v)}  # Remove NaN values\n",
    "        feature = ee.Feature(ee.Geometry.Point([lon, lat]), properties)  \n",
    "        features.append(feature)\n",
    "\n",
    "\n",
    "# batch processing with smaller batches (e.g., 200)\n",
    "batch_size = 200  \n",
    "feature_batches = [features[i:i+batch_size] for i in range(0, len(features), batch_size)]\n",
    "\n",
    "# create multiple FeatureCollections\n",
    "datasets = [ee.FeatureCollection(batch) for batch in feature_batches]\n",
    "\n",
    "# define color mapping for vegetation types\n",
    "vegetation_colors = ee.Dictionary({\n",
    "    \"Tree\": \"#1b5e20\",\n",
    "    \"Not_Applicable\": \"#76ff03\",\n",
    "    \"Wetland\": \"#004d40\",\n",
    "    \"Palms\": \"#8d6e63\",\n",
    "    \"Hebacias\": \"#ffeb3b\",\n",
    "    \"Herbaceous\": \"#fcba03\",\n",
    "    \"Plastico\": \"#fc62d3\"\n",
    "})\n",
    "\n",
    "# function to style features\n",
    "def style_feature(feature):\n",
    "    color = vegetation_colors.get(feature.get(\"Vegetation\"), \"#ffffff\")  \n",
    "    return feature.set({\"style\": ee.Dictionary({\"color\": color})})\n",
    "\n",
    "# create a map\n",
    "Map = geemap.Map()\n",
    "\n",
    "# add each batch separately to avoid large requests\n",
    "for i, dataset in enumerate(datasets):\n",
    "    styled_dataset = dataset.map(style_feature).style(**{\"styleProperty\": \"style\"})\n",
    "    Map.addLayer(styled_dataset, {}, f\"Vegetation Classification Batch {i+1}\")\n",
    "\n",
    "# display map\n",
    "Map\n"
   ]
  },
  {
   "cell_type": "code",
   "execution_count": null,
   "id": "3fcffbc3-39ea-4606-ab28-1646f4125547",
   "metadata": {},
   "outputs": [],
   "source": []
  }
 ],
 "metadata": {
  "kernelspec": {
   "display_name": "Python 3 (ipykernel)",
   "language": "python",
   "name": "python3"
  },
  "language_info": {
   "codemirror_mode": {
    "name": "ipython",
    "version": 3
   },
   "file_extension": ".py",
   "mimetype": "text/x-python",
   "name": "python",
   "nbconvert_exporter": "python",
   "pygments_lexer": "ipython3",
   "version": "3.11.8"
  }
 },
 "nbformat": 4,
 "nbformat_minor": 5
}
